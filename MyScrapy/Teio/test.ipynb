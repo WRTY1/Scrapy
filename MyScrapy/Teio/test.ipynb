{
 "cells": [
  {
   "cell_type": "code",
   "execution_count": 2,
   "metadata": {},
   "outputs": [],
   "source": [
    "item = {'urlList': [['https://s2.loli.net/2022/05/25/gZLsDnq2PyAdxza.png'],\n",
    "             ['https://s2.loli.net/2022/05/26/iQFdgbpHcaArBK1.png'],\n",
    "             ['https://s2.loli.net/2022/05/26/jWnQleCULdFJRw7.jpg'],\n",
    "             ['https://s2.loli.net/2022/05/26/YO1BdCQwiZLIU2o.jpg'],\n",
    "             ['https://s2.loli.net/2022/05/26/E2y345xDjeFMLOP.png'],\n",
    "             ['https://s2.loli.net/2022/05/26/iKt2ey5F1GzwJAP.png'],\n",
    "             ['https://s2.loli.net/2022/05/25/nu19Py3vdmewkh5.jpg'],\n",
    "             ['https://s2.loli.net/2022/05/26/waMdpOJ4Zz5YlD6.jpg'],\n",
    "             ['https://s2.loli.net/2022/05/29/yOogljIb1tFu3Tw.jpg']]}\n",
    "with open('urlList.csv','w',encoding='utf-8') as f:\n",
    "    for cout in item[\"urlList\"]:\n",
    "        f.write(''.join(cout))\n",
    "        f.write(',')"
   ]
  },
  {
   "cell_type": "code",
   "execution_count": null,
   "metadata": {},
   "outputs": [],
   "source": []
  }
 ],
 "metadata": {
  "kernelspec": {
   "display_name": "Python 3.8.0 ('vscode')",
   "language": "python",
   "name": "python3"
  },
  "language_info": {
   "codemirror_mode": {
    "name": "ipython",
    "version": 3
   },
   "file_extension": ".py",
   "mimetype": "text/x-python",
   "name": "python",
   "nbconvert_exporter": "python",
   "pygments_lexer": "ipython3",
   "version": "3.8.13"
  },
  "orig_nbformat": 4,
  "vscode": {
   "interpreter": {
    "hash": "fd656d2abfba0ab074ba436b5e35d2ca8abfe10d11d170cc85979dac4c85f725"
   }
  }
 },
 "nbformat": 4,
 "nbformat_minor": 2
}
